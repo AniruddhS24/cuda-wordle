{
 "cells": [
  {
   "cell_type": "code",
   "execution_count": 9,
   "metadata": {},
   "outputs": [],
   "source": [
    "import os\n",
    "import subprocess\n",
    "import pandas as pd\n",
    "import numpy as np\n",
    "from dataclasses import dataclass\n",
    "\n"
   ]
  },
  {
   "cell_type": "code",
   "execution_count": 21,
   "metadata": {},
   "outputs": [],
   "source": [
    "@dataclass\n",
    "class Command:\n",
    "    vocab_file: str\n",
    "    dict_file: str\n",
    "    use_gpu: bool = False\n",
    "    interactive: bool = False\n",
    "\n",
    "def form_command(c: Command): \n",
    "    cmd = [f'./solver -d {c.dict_file} -v {c.vocab_file}']\n",
    "    if c.use_gpu:\n",
    "        cmd.append('-g')\n",
    "    if c.interactive:\n",
    "        cmd.append('-i')\n",
    "    return ' '.join(cmd).split(' ')\n",
    "\n",
    "def run_command(c: Command):\n",
    "    cmd = form_command(c)\n",
    "    output = subprocess.check_output(cmd).decode()\n",
    "    print(output)"
   ]
  },
  {
   "cell_type": "code",
   "execution_count": 24,
   "metadata": {},
   "outputs": [
    {
     "name": "stdout",
     "output_type": "stream",
     "text": [
      "Target Word: rainy\n",
      "\n",
      "Occupancy: 0.476888\n",
      "Expected Information: 5.9392\n",
      "Solver Iteration Time: 1942220958\n",
      "Solver guessed: slate\n",
      "Guess: Colors: \n",
      "0 0 2 0 0 \n",
      "\n",
      "Actual Information: 4.08933\n",
      "Occupancy: 0.0280219\n",
      "Expected Information: 5.45817\n",
      "Solver Iteration Time: 296660761\n",
      "Solver guessed: manor\n",
      "Guess: Colors: \n",
      "0 1 2 0 2 \n",
      "\n",
      "Actual Information: 6.08746\n",
      "Occupancy: 0.000434028\n",
      "Expected Information: 1\n",
      "Solver Iteration Time: 1786564\n",
      "Solver guessed: cairn\n",
      "Guess: Colors: \n",
      "0 1 1 2 2 \n",
      "\n",
      "Actual Information: 1\n",
      "Occupancy: 0.000217014\n",
      "Expected Information: 0\n",
      "Solver Iteration Time: 206563\n",
      "Solver guessed: rainy\n",
      "Guess: Colors: \n",
      "1 1 1 1 1 \n",
      "\n",
      "Solved in 4\n",
      "End to End Time: 2253423585\n",
      "\n"
     ]
    }
   ],
   "source": [
    "c = Command(vocab_file='./basic_dictionary/vocab.txt',\n",
    "            dict_file = './basic_dictionary/potential_words.txt',\n",
    "            use_gpu=True)\n",
    "\n",
    "run_command(c)"
   ]
  }
 ],
 "metadata": {
  "kernelspec": {
   "display_name": "Python 3",
   "language": "python",
   "name": "python3"
  },
  "language_info": {
   "codemirror_mode": {
    "name": "ipython",
    "version": 3
   },
   "file_extension": ".py",
   "mimetype": "text/x-python",
   "name": "python",
   "nbconvert_exporter": "python",
   "pygments_lexer": "ipython3",
   "version": "3.10.6"
  },
  "orig_nbformat": 4
 },
 "nbformat": 4,
 "nbformat_minor": 2
}
