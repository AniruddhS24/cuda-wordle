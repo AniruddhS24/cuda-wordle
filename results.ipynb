{
 "cells": [
  {
   "cell_type": "code",
   "execution_count": 30,
   "metadata": {},
   "outputs": [],
   "source": [
    "import os\n",
    "import random\n",
    "import subprocess\n",
    "import pandas as pd\n",
    "import numpy as np\n",
    "import matplotlib.pyplot as plt\n",
    "from dataclasses import dataclass\n",
    "\n"
   ]
  },
  {
   "cell_type": "code",
   "execution_count": 22,
   "metadata": {},
   "outputs": [],
   "source": [
    "@dataclass\n",
    "class Command:\n",
    "    vocab_file: str\n",
    "    dict_file: str\n",
    "    use_gpu: bool = False\n",
    "    interactive: bool = False\n",
    "    shmem: bool = False\n",
    "    multi_color: bool = False\n",
    "    seed: int = -1\n",
    "\n",
    "def form_command(c: Command): \n",
    "    cmd = [f'./solver -d {c.dict_file} -v {c.vocab_file}']\n",
    "    if c.use_gpu:\n",
    "        cmd.append('-g')\n",
    "    if c.interactive:\n",
    "        cmd.append('-i')\n",
    "    if c.shmem:\n",
    "        cmd.append('-m')\n",
    "    if c.multi_color:\n",
    "        cmd.append('-c')\n",
    "    if c.seed != -1:\n",
    "        cmd.extend(['-s', f'{c.seed}'])\n",
    "    return ' '.join(cmd).split(' ')\n",
    "\n",
    "def parse_iteration_info(out: str):\n",
    "    ret = {}\n",
    "    o = out.split('\\n')\n",
    "    for line in o:\n",
    "        if 'Occupancy' in line:\n",
    "            ret['occ'] = float(line.split(': ')[-1])\n",
    "        elif 'Expected Information' in line:\n",
    "            ret['I_e'] = float(line.split(': ')[-1])\n",
    "        elif 'Actual Information' in line:\n",
    "            ret['I_a'] = float(line.split(': ')[-1])\n",
    "        elif 'Solver guessed' in line:\n",
    "            ret['guess'] = line.split(': ')[-1].strip()\n",
    "        elif 'Solver Iteration Time' in line:\n",
    "            ret['time'] = float(line.split(': ')[-1])\n",
    "    return ret\n",
    "def run_command(c: Command):\n",
    "    cmd = form_command(c)\n",
    "    output = subprocess.check_output(cmd).decode()\n",
    "    output = output.split('\\n\\n')\n",
    "    ret = {}\n",
    "    word = output[0]\n",
    "    if 'Actual word' in word:\n",
    "        ret['word'] = word.split(': ')[-1].strip()\n",
    "\n",
    "    e2e_info = output[-1].split('\\n')\n",
    "    for line in e2e_info:\n",
    "      if 'Solved in' in line:\n",
    "          ret['iterations'] = int(line.split(' ')[-1])\n",
    "      elif 'End to End' in line:\n",
    "          ret['e2e_time'] = float(line.split(': ')[-1])\n",
    "\n",
    "    iteration_info = output[1:-1]\n",
    "    for i in range(len(iteration_info)):\n",
    "        ret[f'iteration_{i}'] = parse_iteration_info(iteration_info[i])\n",
    "    return ret\n"
   ]
  },
  {
   "cell_type": "code",
   "execution_count": 23,
   "metadata": {},
   "outputs": [
    {
     "name": "stdout",
     "output_type": "stream",
     "text": [
      "{'word': 'avian', 'iterations': 4, 'e2e_time': 1994890493.0, 'iteration_0': {'occ': 0.00198025, 'I_e': 5.9392, 'time': 1685830984.0, 'guess': 'slate', 'I_a': 4.08933}, 'iteration_1': {'occ': 0.000135634, 'I_e': 5.45817, 'time': 637374.0, 'guess': 'manor', 'I_a': 5.08746}, 'iteration_2': {'occ': 2.71267e-05, 'I_e': 2.0, 'time': 172195.0, 'guess': 'aging', 'I_a': 2.0}, 'iteration_3': {'occ': 2.71267e-05, 'I_e': 0.0, 'time': 168531.0, 'guess': 'avian', 'I_a': 0.0}}\n"
     ]
    }
   ],
   "source": [
    "c = Command(vocab_file='./basic_dictionary/vocab.txt',\n",
    "            dict_file = './basic_dictionary/potential_words.txt',\n",
    "            use_gpu=True,\n",
    "            shmem=True)\n",
    "\n",
    "info = run_command(c)\n",
    "print(info)"
   ]
  },
  {
   "cell_type": "code",
   "execution_count": 37,
   "metadata": {},
   "outputs": [
    {
     "name": "stdout",
     "output_type": "stream",
     "text": [
      "droll\n",
      "abled\n",
      "grout\n",
      "badly\n",
      "empty\n",
      "shone\n",
      "twirl\n",
      "piano\n",
      "thrum\n",
      "human\n",
      "Average Speedup: 10.732538614478205\n",
      "Seq Iterations: 3.3\n",
      "GPU Iterations: 3.2\n"
     ]
    }
   ],
   "source": [
    "seeds = [random.randint(0, 1000) for i in range(10)]\n",
    "speedups = []\n",
    "s_iter = []\n",
    "g_iter = []\n",
    "for seed in seeds:\n",
    "    seq = Command(vocab_file='./basic_dictionary/vocab.txt',\n",
    "            dict_file = './basic_dictionary/potential_words.txt')\n",
    "    gpu = Command(vocab_file='./basic_dictionary/vocab.txt',\n",
    "            dict_file = './basic_dictionary/potential_words.txt',\n",
    "            use_gpu=True)\n",
    "    shmem = Command(vocab_file='./basic_dictionary/vocab.txt',\n",
    "            dict_file = './basic_dictionary/potential_words.txt',\n",
    "            shmem=True)\n",
    "    multi_color = Command(vocab_file='./basic_dictionary/vocab.txt',\n",
    "            dict_file = './basic_dictionary/potential_words.txt',\n",
    "            multi_color=True)\n",
    "    \n",
    "    results = {}\n",
    "    results['seq'] = run_command(seq)\n",
    "    results['gpu'] = run_command(gpu)\n",
    "    print(results['seq']['word'])\n",
    "    speedups.append(results['seq']['e2e_time']/ results['gpu']['e2e_time'])\n",
    "    s_iter.append(results['seq']['iterations'])\n",
    "    g_iter.append(results['gpu']['iterations'])\n",
    "    # results['shmem'] = run_command(shmem)\n",
    "    # results['color'] = run_command(multi_color)\n",
    "    # columns = ['seq', 'gpu']\n",
    "    # index = np.arange(len(columns))\n",
    "    # plt.bar(index, [results['seq']['e2e_time'], results['gpu']['e2e_time']])\n",
    "    # plt.show()\n",
    "    # plt.bar(results['gpu']['e2e_time'])\n",
    "\n",
    "print(f'Average Speedup: {np.mean(speedups)}')\n",
    "print(f'Seq Iterations: {np.mean(s_iter)}')\n",
    "print(f'GPU Iterations: {np.mean(g_iter)}')"
   ]
  }
 ],
 "metadata": {
  "kernelspec": {
   "display_name": "Python 3",
   "language": "python",
   "name": "python3"
  },
  "language_info": {
   "codemirror_mode": {
    "name": "ipython",
    "version": 3
   },
   "file_extension": ".py",
   "mimetype": "text/x-python",
   "name": "python",
   "nbconvert_exporter": "python",
   "pygments_lexer": "ipython3",
   "version": "3.6.9"
  },
  "orig_nbformat": 4
 },
 "nbformat": 4,
 "nbformat_minor": 2
}
